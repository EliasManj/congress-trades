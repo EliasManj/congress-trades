{
 "cells": [
  {
   "cell_type": "code",
   "execution_count": 138,
   "id": "790b40fd-2812-4a23-a8df-3fc8613681f6",
   "metadata": {},
   "outputs": [],
   "source": [
    "import pdfplumber\n",
    "import re\n",
    "import db_engine"
   ]
  },
  {
   "cell_type": "code",
   "execution_count": 134,
   "id": "28b841cd-bbae-44cf-8fea-8dd2bb24ff4e",
   "metadata": {},
   "outputs": [],
   "source": [
    "pdf_path = \"data/pdf/2024/20024580.pdf\"\n",
    "# Define the regex patterns\n",
    "column_names = re.compile(r'ID Owner Asset Transaction Date Notification Amount Cap.\\nType Date Gains >\\n\\$200\\?')\n",
    "separator = re.compile(r'\\nF S: New\\n(?:D: .*\\n)?')    \n",
    "stock_pattern = r'^[SP]+\\s+(.+?)\\s+(S \\(partial\\)|S|P)\\s+'\n",
    "date_pattern = r'(\\d{2}/\\d{2}/\\d{4})'\n",
    "amount_pattern = r'\\$\\d{1,3}(?:,\\d{3})*(?:\\s*-\\s*\\$\\d{1,3}(?:,\\d{3})*|(?: -)?(?:[\\d,]+)?)'\n",
    "\n",
    "def printls(array):\n",
    "    print('[')\n",
    "    for item in array:\n",
    "        print(item)\n",
    "    print(']')\n",
    "    print()\n",
    "\n",
    "def has_table(page):\n",
    "    text = page.extract_text()\n",
    "    return column_names.search(text)\n",
    "    \n",
    "def get_extract(text):\n",
    "    text = page.extract_text()\n",
    "    result = column_names.search(text)\n",
    "    if result: \n",
    "        # Get the end position of the matched text\n",
    "        start_position = result.end()\n",
    "        # Slice the text from the end position of the matched text to the end of the string\n",
    "        remaining_text = text[start_position:].strip()    \n",
    "        return remaining_text\n",
    "\n",
    "def pages_with_tables(pdf):\n",
    "    return [index for index, page in enumerate(pdf.pages) if has_table(page)]\n",
    "\n",
    "def get_filings_from_pdf(pdf_path):\n",
    "    with pdfplumber.open(pdf_path) as pdf:\n",
    "        pages = [page for page in pdf.pages if has_table(page)]\n",
    "        all_text = \"\"\n",
    "        for page in pages:\n",
    "            important_text = get_extract(page)\n",
    "            all_text += important_text\n",
    "        cleaned_text = all_text.replace('\\x00', '')\n",
    "        return cleaned_text"
   ]
  },
  {
   "cell_type": "code",
   "execution_count": 139,
   "id": "369172ca-05cd-4f11-a035-40784da7979b",
   "metadata": {},
   "outputs": [],
   "source": [
    "def parse_string(s):\n",
    "    # Extract stock and type\n",
    "    stock_type_match = re.search(stock_pattern, s)\n",
    "    if not stock_type_match:\n",
    "        return None\n",
    "    \n",
    "    stock = stock_type_match.group(1).strip()\n",
    "    type_ = stock_type_match.group(2).strip()\n",
    "    \n",
    "    # Extract dates\n",
    "    date_matches = re.findall(date_pattern, s)\n",
    "    if len(date_matches) < 2:\n",
    "        return None\n",
    "    \n",
    "    date = date_matches[0]\n",
    "    notification_date = date_matches[1]\n",
    "    \n",
    "    # Extract amount\n",
    "    amount_match = re.search(amount_pattern, s)\n",
    "    if not amount_match:\n",
    "        return None\n",
    "    \n",
    "    amount = amount_match.group(0).strip()\n",
    "    \n",
    "    return (stock, type_, date, notification_date, amount)\n",
    "\n",
    "def parse_list1(array):\n",
    "    array = array[:-1]\n",
    "    processed_list = []\n",
    "    for item in array:\n",
    "        lines = item.split('\\n')\n",
    "        if '[ST]' in lines[-1] and len(lines) > 1:\n",
    "            last_line = lines.pop()\n",
    "            # Find the position of the first date (assumed to be in the format MM/DD/YYYY)\n",
    "            match = re.search(r' S \\(partial\\) | P | S ', lines[0])\n",
    "            if match:\n",
    "                first_date_pos = match.start()\n",
    "                lines[0] = lines[0][:first_date_pos] + last_line + ' ' + lines[0][first_date_pos:]\n",
    "        processed_list.append('\\n'.join(lines))\n",
    "    return processed_list\n",
    "\n",
    "def parse_list2(array):\n",
    "    for item in array:\n",
    "        print(parse_string(item))\n",
    "    \n",
    "\n",
    "def fillings_text_to_df(text):\n",
    "    result = re.split(separator, text)\n",
    "    parsed1 = parse_list1(result)\n",
    "    parsed =parse_list2(parsed1)\n",
    "    return parsed1            "
   ]
  },
  {
   "cell_type": "code",
   "execution_count": 136,
   "id": "a59f0706-cee7-44f8-8f9d-aa1d7fd92ac6",
   "metadata": {},
   "outputs": [
    {
     "name": "stdout",
     "output_type": "stream",
     "text": [
      "('Alphabet Inc. - Class A CommonStock (GOOGL) [ST]', 'S (partial)', '02/01/2024', '03/01/2024', '$1,001 - $15,000')\n",
      "('Amazon.com, Inc. - Common Stock(AMZN) [ST] $50,000', 'P', '02/12/2024', '03/01/2024', '$50,000')\n",
      "('Koninklijke Philips N.V. NY RegistryShares (PHG) [ST]', 'P', '02/12/2024', '03/01/2024', '$1,001 - $15,000')\n",
      "('Pfizer, Inc. Common Stock (PFE) [ST]', 'P', '02/12/2024', '03/01/2024', '$1,001 - $15,000')\n",
      "('QUALCOMM Incorporated -Common Stock (QCOM) [ST]', 'P', '02/12/2024', '03/01/2024', '$1,001 - $15,000')\n",
      "('Unilever PLC Common Stock (UL)[ST]', 'S', '02/12/2024', '03/01/2024', '$1,001 - $15,000')\n",
      "[\n",
      "SP Alphabet Inc. - Class A CommonStock (GOOGL) [ST]  S (partial) 02/01/2024 03/01/2024 $1,001 - $15,000\n",
      "SP Amazon.com, Inc. - Common Stock(AMZN) [ST] $50,000  P 02/12/2024 03/01/2024 $15,001 -\n",
      "SP Koninklijke Philips N.V. NY RegistryShares (PHG) [ST]  P 02/12/2024 03/01/2024 $1,001 - $15,000\n",
      "SP Pfizer, Inc. Common Stock (PFE) [ST] P 02/12/2024 03/01/2024 $1,001 - $15,000\n",
      "SP QUALCOMM Incorporated -Common Stock (QCOM) [ST]  P 02/12/2024 03/01/2024 $1,001 - $15,000\n",
      "SP Unilever PLC Common Stock (UL)[ST]  S 02/12/2024 03/01/2024 $1,001 - $15,000\n",
      "]\n",
      "\n"
     ]
    }
   ],
   "source": [
    "text = get_filings_from_pdf(pdf_path)\n",
    "lines = fillings_text_to_df(text)"
   ]
  },
  {
   "cell_type": "code",
   "execution_count": null,
   "id": "7a9ccce2-f9df-4c22-825d-299d337f8d88",
   "metadata": {},
   "outputs": [],
   "source": []
  },
  {
   "cell_type": "code",
   "execution_count": null,
   "id": "09328de2-3a4b-4b8d-926c-e48bea83ad37",
   "metadata": {},
   "outputs": [],
   "source": []
  }
 ],
 "metadata": {
  "kernelspec": {
   "display_name": "Python 3 (ipykernel)",
   "language": "python",
   "name": "python3"
  },
  "language_info": {
   "codemirror_mode": {
    "name": "ipython",
    "version": 3
   },
   "file_extension": ".py",
   "mimetype": "text/x-python",
   "name": "python",
   "nbconvert_exporter": "python",
   "pygments_lexer": "ipython3",
   "version": "3.11.7"
  }
 },
 "nbformat": 4,
 "nbformat_minor": 5
}
