{
 "cells": [
  {
   "cell_type": "code",
   "execution_count": 7,
   "id": "790b40fd-2812-4a23-a8df-3fc8613681f6",
   "metadata": {},
   "outputs": [],
   "source": [
    "import pdfplumber\n",
    "import re"
   ]
  },
  {
   "cell_type": "code",
   "execution_count": 29,
   "id": "28b841cd-bbae-44cf-8fea-8dd2bb24ff4e",
   "metadata": {},
   "outputs": [
    {
     "name": "stdout",
     "output_type": "stream",
     "text": [
      "SP Alphabet Inc. - Class A Common S (partial) 02/01/2024 03/01/2024 $1,001 - $15,000\n",
      "Stock (GOOGL) [ST]\n",
      "F\u0000\u0000\u0000\u0000\u0000 S\u0000\u0000\u0000\u0000\u0000: New\n",
      "D\u0000\u0000\u0000\u0000\u0000\u0000\u0000\u0000\u0000\u0000: Part of my spouse's retirement portfolio.\n",
      "SP Amazon.com, Inc. - Common Stock P 02/12/2024 03/01/2024 $15,001 -\n",
      "(AMZN) [ST] $50,000\n",
      "F\u0000\u0000\u0000\u0000\u0000 S\u0000\u0000\u0000\u0000\u0000: New\n",
      "D\u0000\u0000\u0000\u0000\u0000\u0000\u0000\u0000\u0000\u0000: Part of my spouse's retirement portfolio.\n",
      "SP Koninklijke Philips N.V. NY Registry P 02/12/2024 03/01/2024 $1,001 - $15,000\n",
      "Shares (PHG) [ST]\n",
      "F\u0000\u0000\u0000\u0000\u0000 S\u0000\u0000\u0000\u0000\u0000: New\n",
      "D\u0000\u0000\u0000\u0000\u0000\u0000\u0000\u0000\u0000\u0000: Part of my spouse's retirement portfolio.\n",
      "SP Pfizer, Inc. Common Stock (PFE) [ST] P 02/12/2024 03/01/2024 $1,001 - $15,000\n",
      "F\u0000\u0000\u0000\u0000\u0000 S\u0000\u0000\u0000\u0000\u0000: New\n",
      "D\u0000\u0000\u0000\u0000\u0000\u0000\u0000\u0000\u0000\u0000: Part of my spouse's retirement portfolio.\n",
      "SP QUALCOMM Incorporated - P 02/12/2024 03/01/2024 $1,001 - $15,000\n",
      "Common Stock (QCOM) [ST]\n",
      "F\u0000\u0000\u0000\u0000\u0000 S\u0000\u0000\u0000\u0000\u0000: New\n",
      "D\u0000\u0000\u0000\u0000\u0000\u0000\u0000\u0000\u0000\u0000: Part of my spouse's retirement portfolio.\n",
      "SP Unilever PLC Common Stock (UL) S 02/12/2024 03/01/2024 $1,001 - $15,000\n",
      "[ST]\n",
      "F\u0000\u0000\u0000\u0000\u0000 S\u0000\u0000\u0000\u0000\u0000: New\n",
      "D\u0000\u0000\u0000\u0000\u0000\u0000\u0000\u0000\u0000\u0000: Part of my spouse's retirement portfolio.\n"
     ]
    }
   ],
   "source": [
    "pdf_path = \"data/pdf/2024/20024580.pdf\"\n",
    "column_names = re.compile(r'ID Owner Asset Transaction Date Notification Amount Cap.\\nType Date Gains >\\n\\$200\\?')\n",
    "\n",
    "def has_table(page):\n",
    "    text = page.extract_text()\n",
    "    return column_names.search(text)\n",
    "    \n",
    "def get_extract(text):\n",
    "    text = page.extract_text()\n",
    "    result = column_names.search(text)\n",
    "    if result: \n",
    "        # Get the end position of the matched text\n",
    "        start_position = result.end()\n",
    "        # Slice the text from the end position of the matched text to the end of the string\n",
    "        remaining_text = text[start_position:].strip()    \n",
    "        return remaining_text\n",
    "\n",
    "def pages_with_tables(pdf):\n",
    "    return [index for index, page in enumerate(pdf.pages) if has_table(page)]\n",
    "\n",
    "def get_filings_from_pdf(pdf_path):\n",
    "    with pdfplumber.open(pdf_path) as pdf:\n",
    "        pages = [page for page in pdf.pages if has_table(page)]\n",
    "        all_text = \"\"\n",
    "        for page in pages:\n",
    "            important_text = get_extract(page)\n",
    "            all_text += important_text\n",
    "        return all_text\n",
    "\n",
    "print(get_filings_from_pdf(pdf_path))"
   ]
  },
  {
   "cell_type": "code",
   "execution_count": 24,
   "id": "369172ca-05cd-4f11-a035-40784da7979b",
   "metadata": {},
   "outputs": [
    {
     "name": "stdout",
     "output_type": "stream",
     "text": [
      "<re.Match object; span=(255, 310), match='ID Owner Asset Transaction Date Notification Amou>\n"
     ]
    }
   ],
   "source": [
    "print(column_names.search(text))"
   ]
  },
  {
   "cell_type": "code",
   "execution_count": 21,
   "id": "a59f0706-cee7-44f8-8f9d-aa1d7fd92ac6",
   "metadata": {},
   "outputs": [
    {
     "name": "stdout",
     "output_type": "stream",
     "text": [
      "Filing ID #20024580\n",
      "P\u0000\u0000\u0000\u0000\u0000\u0000\u0000 T\u0000\u0000\u0000\u0000\u0000\u0000\u0000\u0000\u0000\u0000 R\u0000\u0000\u0000\u0000\u0000\n",
      "Clerk of the House of Representatives • Legislative Resource Center • 135 Cannon Building • Washington, DC 20515\n",
      "F\u0000\u0000\u0000\u0000 I\u0000\u0000\u0000\u0000\u0000\u0000\u0000\u0000\u0000\u0000\n",
      "Name: Hon. Earl Blumenauer\n",
      "Status: Member\n",
      "State/District: OR03\n",
      "T\u0000\u0000\u0000\u0000\u0000\u0000\u0000\u0000\u0000\u0000\u0000\n",
      "ID Owner Asset Transaction Date Notification Amount Cap.\n",
      "Type Date Gains >\n",
      "$200?\n",
      "SP Alphabet Inc. - Class A Common S (partial) 02/01/2024 03/01/2024 $1,001 - $15,000\n",
      "Stock (GOOGL) [ST]\n",
      "F\u0000\u0000\u0000\u0000\u0000 S\u0000\u0000\u0000\u0000\u0000: New\n",
      "D\u0000\u0000\u0000\u0000\u0000\u0000\u0000\u0000\u0000\u0000: Part of my spouse's retirement portfolio.\n",
      "SP Amazon.com, Inc. - Common Stock P 02/12/2024 03/01/2024 $15,001 -\n",
      "(AMZN) [ST] $50,000\n",
      "F\u0000\u0000\u0000\u0000\u0000 S\u0000\u0000\u0000\u0000\u0000: New\n",
      "D\u0000\u0000\u0000\u0000\u0000\u0000\u0000\u0000\u0000\u0000: Part of my spouse's retirement portfolio.\n",
      "SP Koninklijke Philips N.V. NY Registry P 02/12/2024 03/01/2024 $1,001 - $15,000\n",
      "Shares (PHG) [ST]\n",
      "F\u0000\u0000\u0000\u0000\u0000 S\u0000\u0000\u0000\u0000\u0000: New\n",
      "D\u0000\u0000\u0000\u0000\u0000\u0000\u0000\u0000\u0000\u0000: Part of my spouse's retirement portfolio.\n",
      "SP Pfizer, Inc. Common Stock (PFE) [ST] P 02/12/2024 03/01/2024 $1,001 - $15,000\n",
      "F\u0000\u0000\u0000\u0000\u0000 S\u0000\u0000\u0000\u0000\u0000: New\n",
      "D\u0000\u0000\u0000\u0000\u0000\u0000\u0000\u0000\u0000\u0000: Part of my spouse's retirement portfolio.\n",
      "SP QUALCOMM Incorporated - P 02/12/2024 03/01/2024 $1,001 - $15,000\n",
      "Common Stock (QCOM) [ST]\n",
      "F\u0000\u0000\u0000\u0000\u0000 S\u0000\u0000\u0000\u0000\u0000: New\n",
      "D\u0000\u0000\u0000\u0000\u0000\u0000\u0000\u0000\u0000\u0000: Part of my spouse's retirement portfolio.\n",
      "SP Unilever PLC Common Stock (UL) S 02/12/2024 03/01/2024 $1,001 - $15,000\n",
      "[ST]\n",
      "F\u0000\u0000\u0000\u0000\u0000 S\u0000\u0000\u0000\u0000\u0000: New\n",
      "D\u0000\u0000\u0000\u0000\u0000\u0000\u0000\u0000\u0000\u0000: Part of my spouse's retirement portfolio.\n"
     ]
    }
   ],
   "source": [
    "print(text)"
   ]
  },
  {
   "cell_type": "code",
   "execution_count": null,
   "id": "7a9ccce2-f9df-4c22-825d-299d337f8d88",
   "metadata": {},
   "outputs": [],
   "source": []
  }
 ],
 "metadata": {
  "kernelspec": {
   "display_name": "Python 3 (ipykernel)",
   "language": "python",
   "name": "python3"
  },
  "language_info": {
   "codemirror_mode": {
    "name": "ipython",
    "version": 3
   },
   "file_extension": ".py",
   "mimetype": "text/x-python",
   "name": "python",
   "nbconvert_exporter": "python",
   "pygments_lexer": "ipython3",
   "version": "3.11.7"
  }
 },
 "nbformat": 4,
 "nbformat_minor": 5
}
