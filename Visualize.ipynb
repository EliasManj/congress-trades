{
 "cells": [
  {
   "cell_type": "code",
   "execution_count": 4,
   "id": "f9948051-aa72-472b-95e8-028ce09167ca",
   "metadata": {},
   "outputs": [],
   "source": [
    "import pandas as pd\n",
    "import sqlite3\n",
    "import panel as pn\n",
    "from datetime import datetime, date\n",
    "import param"
   ]
  },
  {
   "cell_type": "code",
   "execution_count": 5,
   "id": "6b2d0869-b32b-4a2c-8ac6-5d996770c498",
   "metadata": {},
   "outputs": [],
   "source": [
    "def fetch_data(query, db_path='db/database.db'):\n",
    "    \"\"\"\n",
    "    Fetch data from the SQLite database and return it as a pandas DataFrame.\n",
    "\n",
    "    :param query: SQL query to execute.\n",
    "    :param db_path: Path to the SQLite database file. Default is 'database.db'.\n",
    "    :return: pandas DataFrame containing the query results.\n",
    "    \"\"\"\n",
    "    # Connect to the SQLite database\n",
    "    conn = sqlite3.connect(db_path)\n",
    "    \n",
    "    # Use pandas to execute the query and fetch the data\n",
    "    df = pd.read_sql_query(query, conn)\n",
    "    \n",
    "    # Close the connection\n",
    "    conn.close()\n",
    "    \n",
    "    return df"
   ]
  },
  {
   "cell_type": "code",
   "execution_count": 6,
   "id": "f68a1467-d544-4962-aba7-7021e6137c61",
   "metadata": {},
   "outputs": [],
   "source": [
    "query = \"\"\"\n",
    "select \n",
    "transactions.id,\n",
    "persons.lastname,\n",
    "persons.firstname,\n",
    "transactions.asset,\n",
    "transactions.ticker,\n",
    "transactions.security,\n",
    "transactions.transaction_type,\n",
    "transactions.transaction_date,\n",
    "transactions.notification_date,\n",
    "transactions.min_amount,\n",
    "transactions.max_amount,\n",
    "transactions.docid,\n",
    "fillings.filing_type,\n",
    "fillings.filing_date\n",
    "from \n",
    "transactions \n",
    "inner join fillings on fillings.docid = transactions.docid\n",
    "inner join persons on fillings.person_id = persons.id\n",
    "\"\"\"\n",
    "\n",
    "df = fetch_data(query)"
   ]
  },
  {
   "cell_type": "code",
   "execution_count": 7,
   "id": "14c8ba49-1fd7-4034-90b7-0853f20cd3c6",
   "metadata": {},
   "outputs": [],
   "source": [
    "# some processing\n",
    "\n",
    "# parse dates\n",
    "df['notification_date'] = pd.to_datetime(df['notification_date'], format='%m/%d/%Y', errors='coerce')\n",
    "df['transaction_date'] = pd.to_datetime(df['transaction_date'], format='%m/%d/%Y', errors='coerce')\n",
    "df['filing_date'] = pd.to_datetime(df['filing_date'], format='%m/%d/%Y', errors='coerce')\n",
    "\n",
    "# parse amounts\n",
    "df['min_amount'] = df['min_amount'].str.replace(',', '').astype(float)\n",
    "df['max_amount'] = df['max_amount'].str.replace(',', '').astype(float)\n",
    "\n",
    "# join names\n",
    "df['name'] = df['firstname'] + \" \" + df['lastname']\n",
    "df.drop(columns=['firstname','lastname'], inplace=True)"
   ]
  },
  {
   "cell_type": "code",
   "execution_count": 17,
   "id": "e6ea4360-24a6-47fa-ab28-3c6fcb345298",
   "metadata": {},
   "outputs": [],
   "source": [
    "# drop down options\n",
    "names = list(df['name'].unique())\n",
    "securities = list(df['security'].unique())\n",
    "tickers = list(df['ticker'].unique())\n",
    "buysell = ['Buy', 'Sell']\n",
    "names.append('-')\n",
    "securities.append('-')\n",
    "tickers.append('-')\n",
    "buysell.append('-')\n",
    "\n",
    "# Define the FilterParams class\n",
    "class FilterParams(param.Parameterized):\n",
    "    start_date = param.CalendarDate(default=date(2020, 1, 1))\n",
    "    end_date = param.CalendarDate(default=date(2025, 12, 31))\n",
    "    selected_name = param.Selector(objects=names, default='-')\n",
    "    security = param.Selector(objects=securities, default='-')\n",
    "    ticker = param.Selector(objects=tickers, default='-')\n",
    "    action = param.ObjectSelector(default='-', objects=buysell)\n",
    "\n",
    "filter_params = FilterParams()\n",
    "\n",
    "# Create the widgets using Param\n",
    "name_dropdown = pn.Param(filter_params.param.selected_name)\n",
    "security_dropdown = pn.Param(filter_params.param.security)\n",
    "ticker_dropdown = pn.Param(filter_params.param.ticker)\n",
    "start_date_picker = pn.Param(filter_params.param.start_date)\n",
    "end_date_picker = pn.Param(filter_params.param.end_date)\n",
    "select_widget = pn.Param(filter_params.param.action)"
   ]
  },
  {
   "cell_type": "code",
   "execution_count": 18,
   "id": "a1bd4ba6-4fce-4829-a41c-ec6fcee070d6",
   "metadata": {},
   "outputs": [],
   "source": [
    "PAGE_SIZE = 35\n",
    "WIDTHS = {\n",
    "        'asset': 100,\n",
    "        'description': 250,\n",
    "        'amount': 100,\n",
    "        'tag': 100,\n",
    "        'card': 100,\n",
    "        'category': 200\n",
    "    }\n",
    "\n",
    "@pn.depends(filter_params.param.selected_name, filter_params.param.security, filter_params.param.ticker, filter_params.param.start_date, filter_params.param.end_date, filter_params.param.action)\n",
    "def filter_df(selected_name, security, ticker, start_date, end_date, action):\n",
    "    filtered_df = df.copy()\n",
    "\n",
    "    if selected_name and selected_name != '-':\n",
    "        filtered_df = filtered_df[filtered_df['name'] == selected_name]\n",
    "\n",
    "    if security and security != '-':\n",
    "        filtered_df = filtered_df[filtered_df['security'] == security]\n",
    "\n",
    "    if ticker and ticker != '-':\n",
    "        filtered_df = filtered_df[filtered_df['ticker'] == ticker]\n",
    "\n",
    "    if action and action != '-':\n",
    "        if action == 'Buy':\n",
    "            filtered_df = filtered_df[filtered_df['transaction_type'] == 'P']\n",
    "        else:\n",
    "            filtered_df = filtered_df[filtered_df['transaction_type'] != 'P']\n",
    "\n",
    "    if start_date and end_date:\n",
    "        mask = (filtered_df['transaction_date'] >= pd.to_datetime(start_date)) & (filtered_df['transaction_date'] <= pd.to_datetime(end_date))\n",
    "        filtered_df = filtered_df[mask]\n",
    "        \n",
    "    \n",
    "    return pn.widgets.Tabulator(filtered_df, pagination='local', page_size=PAGE_SIZE, sizing_mode='stretch_width', show_index=False)"
   ]
  },
  {
   "cell_type": "code",
   "execution_count": 19,
   "id": "4ba12b9f-c906-4588-8539-fd1626bcd572",
   "metadata": {},
   "outputs": [
    {
     "name": "stdout",
     "output_type": "stream",
     "text": [
      "Launching server at http://localhost:41371\n"
     ]
    },
    {
     "data": {
      "text/plain": [
       "<panel.io.server.Server at 0x7b9d98687050>"
      ]
     },
     "execution_count": 19,
     "metadata": {},
     "output_type": "execute_result"
    },
    {
     "name": "stdout",
     "output_type": "stream",
     "text": [
      "Opening in existing browser session.\n"
     ]
    }
   ],
   "source": [
    "# Display the layout\n",
    "layout = pn.Column(\n",
    "    pn.Row(name_dropdown, security_dropdown, ticker_dropdown),\n",
    "    pn.Row(start_date_picker, end_date_picker),\n",
    "    select_widget,\n",
    "    pn.panel(filter_df)\n",
    ")\n",
    "\n",
    "layout.servable()\n",
    "layout.show()"
   ]
  },
  {
   "cell_type": "code",
   "execution_count": null,
   "id": "143c044c-a768-4f0a-9bb9-25097b2d0d51",
   "metadata": {},
   "outputs": [],
   "source": []
  },
  {
   "cell_type": "code",
   "execution_count": null,
   "id": "5e3c09cc-1077-4abf-9986-2f31d65e0496",
   "metadata": {},
   "outputs": [],
   "source": []
  }
 ],
 "metadata": {
  "kernelspec": {
   "display_name": "Python 3 (ipykernel)",
   "language": "python",
   "name": "python3"
  },
  "language_info": {
   "codemirror_mode": {
    "name": "ipython",
    "version": 3
   },
   "file_extension": ".py",
   "mimetype": "text/x-python",
   "name": "python",
   "nbconvert_exporter": "python",
   "pygments_lexer": "ipython3",
   "version": "3.11.7"
  }
 },
 "nbformat": 4,
 "nbformat_minor": 5
}
